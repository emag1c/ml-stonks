{
 "cells": [
  {
   "cell_type": "code",
   "execution_count": 9,
   "metadata": {
    "collapsed": true
   },
   "outputs": [],
   "source": [
    "import pandas as pd\n",
    "from pathlib import Path\n",
    "from datetime import datetime, timedelta\n",
    "\n",
    "SHORT_URL = \"https://eodhistoricaldata.com/api/shorts/{sym}.{exc}?api_token={token}&from={from_date}\"\n",
    "EOD_URL = \"https://eodhistoricaldata.com/api/eod/{sym}.{exc}?api_token={token}&from={from_date}&to={to_date}\"\n",
    "API_KEY = \"5f243129807d34.64565602\"\n",
    "DATA_DIR = Path('/Users/eric/Projects/stonks/ml/rnn/data/')\n",
    "SYMBOLS = ['SPY', 'QQQ', 'VOO', 'GLD', 'EEM', 'IEMG', 'VTI', 'IVV', 'VEA', 'VTV', 'GDX', 'EFA', 'XLF']\n",
    "\n",
    "def to_api_date(date: datetime) -> str:\n",
    "    return date.strftime(\"%Y-%m-%d\")\n",
    "\n",
    "def short_interest(sym=\"AAPL\", exc=\"US\", token=\"OeAFFmMliFG5orCUuwAKQ8l4WWFQ67YX\", days=365*5) -> pd.DataFrame:\n",
    "    from_date = datetime.now() - timedelta(days=days)\n",
    "    url = SHORT_URL.format(sym=sym, exc=exc, token=token, from_date=to_api_date(from_date))\n",
    "    print(url)\n",
    "    df = pd.read_csv(url, skipfooter=1)\n",
    "    return df\n",
    "\n",
    "def eod(start_date:datetime, sym=\"AAPL\", exc=\"US\", token=\"OeAFFmMliFG5orCUuwAKQ8l4WWFQ67YX\") -> pd.DataFrame:\n",
    "    to_date = start_date + timedelta(days=100)\n",
    "    print(f\"From: {start_date}, To: {to_date}\")\n",
    "    now = datetime.now()\n",
    "    df = None\n",
    "    while start_date < now:\n",
    "        url = EOD_URL.format(sym=sym, exc=exc, token=token, from_date=to_api_date(start_date), to_date=to_api_date(to_date))\n",
    "        print(url)\n",
    "        _df = pd.read_csv(url, skipfooter=1)\n",
    "        if df is None:\n",
    "            df = _df\n",
    "        else:\n",
    "            df = pd.concat((df, _df))\n",
    "        start_date += timedelta(days=100)\n",
    "        to_date += timedelta(days=100)\n",
    "\n",
    "    return df"
   ]
  },
  {
   "cell_type": "code",
   "execution_count": 10,
   "outputs": [],
   "source": [
    "def save_with_short(sym:str, exc:str, token:str)->pd.DataFrame:\n",
    "    short_df = short_interest(sym, token=API_KEY).tail(100)\n",
    "    short_interest(sym, exc=exc, token=token).tail(100)\n",
    "    start_date = pd.to_datetime(short_df['Date'].iloc[0], infer_datetime_format=True)\n",
    "    start_date: datetime = start_date.to_pydatetime()\n",
    "    eod_df = eod(start_date, sym, token=API_KEY)\n",
    "    short_df = short_df.set_index(\"Date\")\n",
    "    short_df = short_df.join(eod_df[\"Volume\"], lsuffix=\"_eod\")\n",
    "    short_df[\"%short\"] = short_df[\"Volume\"] / short_df[\"Volume_eod\"]\n",
    "    df = eod_df.join(short_df, on=\"Date\", lsuffix=\"_short\").reset_index()\n",
    "    df.ffill(inplace=True)\n",
    "    df.drop([\"Volume_eod\"], axis=1, inplace=True)\n",
    "    df.to_csv(DATA_DIR / f\"chart_{sym}.csv\")\n",
    "    return df"
   ],
   "metadata": {
    "collapsed": false,
    "pycharm": {
     "name": "#%%\n"
    }
   }
  },
  {
   "cell_type": "code",
   "execution_count": null,
   "outputs": [
    {
     "name": "stdout",
     "output_type": "stream",
     "text": [
      "https://eodhistoricaldata.com/api/shorts/AAPL.US?api_token=5f243129807d34.64565602&from=2015-08-02\n",
      "https://eodhistoricaldata.com/api/shorts/SPY.US?api_token=5f243129807d34.64565602&from=2015-08-02\n",
      "From: 2018-09-14 00:00:00, To: 2018-12-23 00:00:00\n",
      "https://eodhistoricaldata.com/api/eod/AAPL.US?api_token=5f243129807d34.64565602&from=2018-09-14&to=2018-12-23\n",
      "https://eodhistoricaldata.com/api/eod/AAPL.US?api_token=5f243129807d34.64565602&from=2018-12-23&to=2019-04-02\n",
      "https://eodhistoricaldata.com/api/eod/AAPL.US?api_token=5f243129807d34.64565602&from=2019-04-02&to=2019-07-11\n",
      "https://eodhistoricaldata.com/api/eod/AAPL.US?api_token=5f243129807d34.64565602&from=2019-07-11&to=2019-10-19\n",
      "https://eodhistoricaldata.com/api/eod/AAPL.US?api_token=5f243129807d34.64565602&from=2019-10-19&to=2020-01-27\n",
      "https://eodhistoricaldata.com/api/eod/AAPL.US?api_token=5f243129807d34.64565602&from=2020-01-27&to=2020-05-06\n",
      "https://eodhistoricaldata.com/api/eod/AAPL.US?api_token=5f243129807d34.64565602&from=2020-05-06&to=2020-08-14\n",
      "https://eodhistoricaldata.com/api/shorts/AAPL.US?api_token=5f243129807d34.64565602&from=2015-08-02\n",
      "https://eodhistoricaldata.com/api/shorts/QQQ.US?api_token=5f243129807d34.64565602&from=2015-08-02\n",
      "From: 2018-09-14 00:00:00, To: 2018-12-23 00:00:00\n",
      "https://eodhistoricaldata.com/api/eod/AAPL.US?api_token=5f243129807d34.64565602&from=2018-09-14&to=2018-12-23\n",
      "https://eodhistoricaldata.com/api/eod/AAPL.US?api_token=5f243129807d34.64565602&from=2018-12-23&to=2019-04-02\n",
      "https://eodhistoricaldata.com/api/eod/AAPL.US?api_token=5f243129807d34.64565602&from=2019-04-02&to=2019-07-11\n",
      "https://eodhistoricaldata.com/api/eod/AAPL.US?api_token=5f243129807d34.64565602&from=2019-07-11&to=2019-10-19\n",
      "https://eodhistoricaldata.com/api/eod/AAPL.US?api_token=5f243129807d34.64565602&from=2019-10-19&to=2020-01-27\n",
      "https://eodhistoricaldata.com/api/eod/AAPL.US?api_token=5f243129807d34.64565602&from=2020-01-27&to=2020-05-06\n",
      "https://eodhistoricaldata.com/api/eod/AAPL.US?api_token=5f243129807d34.64565602&from=2020-05-06&to=2020-08-14\n",
      "https://eodhistoricaldata.com/api/shorts/AAPL.US?api_token=5f243129807d34.64565602&from=2015-08-02\n",
      "https://eodhistoricaldata.com/api/shorts/VOO.US?api_token=5f243129807d34.64565602&from=2015-08-02\n",
      "From: 2018-09-14 00:00:00, To: 2018-12-23 00:00:00\n",
      "https://eodhistoricaldata.com/api/eod/AAPL.US?api_token=5f243129807d34.64565602&from=2018-09-14&to=2018-12-23\n",
      "https://eodhistoricaldata.com/api/eod/AAPL.US?api_token=5f243129807d34.64565602&from=2018-12-23&to=2019-04-02\n",
      "https://eodhistoricaldata.com/api/eod/AAPL.US?api_token=5f243129807d34.64565602&from=2019-04-02&to=2019-07-11\n",
      "https://eodhistoricaldata.com/api/eod/AAPL.US?api_token=5f243129807d34.64565602&from=2019-07-11&to=2019-10-19\n",
      "https://eodhistoricaldata.com/api/eod/AAPL.US?api_token=5f243129807d34.64565602&from=2019-10-19&to=2020-01-27\n",
      "https://eodhistoricaldata.com/api/eod/AAPL.US?api_token=5f243129807d34.64565602&from=2020-01-27&to=2020-05-06\n",
      "https://eodhistoricaldata.com/api/eod/AAPL.US?api_token=5f243129807d34.64565602&from=2020-05-06&to=2020-08-14\n",
      "https://eodhistoricaldata.com/api/shorts/AAPL.US?api_token=5f243129807d34.64565602&from=2015-08-02\n",
      "https://eodhistoricaldata.com/api/shorts/GLD.US?api_token=5f243129807d34.64565602&from=2015-08-02\n",
      "From: 2018-09-14 00:00:00, To: 2018-12-23 00:00:00\n",
      "https://eodhistoricaldata.com/api/eod/AAPL.US?api_token=5f243129807d34.64565602&from=2018-09-14&to=2018-12-23\n",
      "https://eodhistoricaldata.com/api/eod/AAPL.US?api_token=5f243129807d34.64565602&from=2018-12-23&to=2019-04-02\n",
      "https://eodhistoricaldata.com/api/eod/AAPL.US?api_token=5f243129807d34.64565602&from=2019-04-02&to=2019-07-11\n",
      "https://eodhistoricaldata.com/api/eod/AAPL.US?api_token=5f243129807d34.64565602&from=2019-07-11&to=2019-10-19\n",
      "https://eodhistoricaldata.com/api/eod/AAPL.US?api_token=5f243129807d34.64565602&from=2019-10-19&to=2020-01-27\n",
      "https://eodhistoricaldata.com/api/eod/AAPL.US?api_token=5f243129807d34.64565602&from=2020-01-27&to=2020-05-06\n",
      "https://eodhistoricaldata.com/api/eod/AAPL.US?api_token=5f243129807d34.64565602&from=2020-05-06&to=2020-08-14\n",
      "https://eodhistoricaldata.com/api/shorts/AAPL.US?api_token=5f243129807d34.64565602&from=2015-08-02\n",
      "https://eodhistoricaldata.com/api/shorts/EEM.US?api_token=5f243129807d34.64565602&from=2015-08-02\n",
      "From: 2018-09-14 00:00:00, To: 2018-12-23 00:00:00\n",
      "https://eodhistoricaldata.com/api/eod/AAPL.US?api_token=5f243129807d34.64565602&from=2018-09-14&to=2018-12-23\n",
      "https://eodhistoricaldata.com/api/eod/AAPL.US?api_token=5f243129807d34.64565602&from=2018-12-23&to=2019-04-02\n",
      "https://eodhistoricaldata.com/api/eod/AAPL.US?api_token=5f243129807d34.64565602&from=2019-04-02&to=2019-07-11\n",
      "https://eodhistoricaldata.com/api/eod/AAPL.US?api_token=5f243129807d34.64565602&from=2019-07-11&to=2019-10-19\n",
      "https://eodhistoricaldata.com/api/eod/AAPL.US?api_token=5f243129807d34.64565602&from=2019-10-19&to=2020-01-27\n",
      "https://eodhistoricaldata.com/api/eod/AAPL.US?api_token=5f243129807d34.64565602&from=2020-01-27&to=2020-05-06\n",
      "https://eodhistoricaldata.com/api/eod/AAPL.US?api_token=5f243129807d34.64565602&from=2020-05-06&to=2020-08-14\n",
      "https://eodhistoricaldata.com/api/shorts/AAPL.US?api_token=5f243129807d34.64565602&from=2015-08-02\n",
      "https://eodhistoricaldata.com/api/shorts/IEMG.US?api_token=5f243129807d34.64565602&from=2015-08-02\n",
      "From: 2018-09-14 00:00:00, To: 2018-12-23 00:00:00\n",
      "https://eodhistoricaldata.com/api/eod/AAPL.US?api_token=5f243129807d34.64565602&from=2018-09-14&to=2018-12-23\n",
      "https://eodhistoricaldata.com/api/eod/AAPL.US?api_token=5f243129807d34.64565602&from=2018-12-23&to=2019-04-02\n",
      "https://eodhistoricaldata.com/api/eod/AAPL.US?api_token=5f243129807d34.64565602&from=2019-04-02&to=2019-07-11\n",
      "https://eodhistoricaldata.com/api/eod/AAPL.US?api_token=5f243129807d34.64565602&from=2019-07-11&to=2019-10-19\n",
      "https://eodhistoricaldata.com/api/eod/AAPL.US?api_token=5f243129807d34.64565602&from=2019-10-19&to=2020-01-27\n",
      "https://eodhistoricaldata.com/api/eod/AAPL.US?api_token=5f243129807d34.64565602&from=2020-01-27&to=2020-05-06\n",
      "https://eodhistoricaldata.com/api/eod/AAPL.US?api_token=5f243129807d34.64565602&from=2020-05-06&to=2020-08-14\n",
      "https://eodhistoricaldata.com/api/shorts/AAPL.US?api_token=5f243129807d34.64565602&from=2015-08-02\n",
      "https://eodhistoricaldata.com/api/shorts/VTI.US?api_token=5f243129807d34.64565602&from=2015-08-02\n",
      "From: 2018-09-14 00:00:00, To: 2018-12-23 00:00:00\n",
      "https://eodhistoricaldata.com/api/eod/AAPL.US?api_token=5f243129807d34.64565602&from=2018-09-14&to=2018-12-23\n",
      "https://eodhistoricaldata.com/api/eod/AAPL.US?api_token=5f243129807d34.64565602&from=2018-12-23&to=2019-04-02\n",
      "https://eodhistoricaldata.com/api/eod/AAPL.US?api_token=5f243129807d34.64565602&from=2019-04-02&to=2019-07-11\n",
      "https://eodhistoricaldata.com/api/eod/AAPL.US?api_token=5f243129807d34.64565602&from=2019-07-11&to=2019-10-19\n",
      "https://eodhistoricaldata.com/api/eod/AAPL.US?api_token=5f243129807d34.64565602&from=2019-10-19&to=2020-01-27\n",
      "https://eodhistoricaldata.com/api/eod/AAPL.US?api_token=5f243129807d34.64565602&from=2020-01-27&to=2020-05-06\n",
      "https://eodhistoricaldata.com/api/eod/AAPL.US?api_token=5f243129807d34.64565602&from=2020-05-06&to=2020-08-14\n",
      "https://eodhistoricaldata.com/api/shorts/AAPL.US?api_token=5f243129807d34.64565602&from=2015-08-02\n",
      "https://eodhistoricaldata.com/api/shorts/IVV.US?api_token=5f243129807d34.64565602&from=2015-08-02\n",
      "From: 2018-09-14 00:00:00, To: 2018-12-23 00:00:00\n",
      "https://eodhistoricaldata.com/api/eod/AAPL.US?api_token=5f243129807d34.64565602&from=2018-09-14&to=2018-12-23\n",
      "https://eodhistoricaldata.com/api/eod/AAPL.US?api_token=5f243129807d34.64565602&from=2018-12-23&to=2019-04-02\n",
      "https://eodhistoricaldata.com/api/eod/AAPL.US?api_token=5f243129807d34.64565602&from=2019-04-02&to=2019-07-11\n",
      "https://eodhistoricaldata.com/api/eod/AAPL.US?api_token=5f243129807d34.64565602&from=2019-07-11&to=2019-10-19\n",
      "https://eodhistoricaldata.com/api/eod/AAPL.US?api_token=5f243129807d34.64565602&from=2019-10-19&to=2020-01-27\n",
      "https://eodhistoricaldata.com/api/eod/AAPL.US?api_token=5f243129807d34.64565602&from=2020-01-27&to=2020-05-06\n",
      "https://eodhistoricaldata.com/api/eod/AAPL.US?api_token=5f243129807d34.64565602&from=2020-05-06&to=2020-08-14\n",
      "https://eodhistoricaldata.com/api/shorts/AAPL.US?api_token=5f243129807d34.64565602&from=2015-08-02\n",
      "https://eodhistoricaldata.com/api/shorts/VEA.US?api_token=5f243129807d34.64565602&from=2015-08-02\n",
      "From: 2018-09-14 00:00:00, To: 2018-12-23 00:00:00\n",
      "https://eodhistoricaldata.com/api/eod/AAPL.US?api_token=5f243129807d34.64565602&from=2018-09-14&to=2018-12-23\n",
      "https://eodhistoricaldata.com/api/eod/AAPL.US?api_token=5f243129807d34.64565602&from=2018-12-23&to=2019-04-02\n",
      "https://eodhistoricaldata.com/api/eod/AAPL.US?api_token=5f243129807d34.64565602&from=2019-04-02&to=2019-07-11\n",
      "https://eodhistoricaldata.com/api/eod/AAPL.US?api_token=5f243129807d34.64565602&from=2019-07-11&to=2019-10-19\n",
      "https://eodhistoricaldata.com/api/eod/AAPL.US?api_token=5f243129807d34.64565602&from=2019-10-19&to=2020-01-27\n"
     ]
    },
    {
     "name": "stderr",
     "output_type": "stream",
     "text": [
      "/Users/eric/miniconda3/envs/ml/lib/python3.7/site-packages/ipykernel_launcher.py:19: ParserWarning: Falling back to the 'python' engine because the 'c' engine does not support skipfooter; you can avoid this warning by specifying engine='python'.\n",
      "/Users/eric/miniconda3/envs/ml/lib/python3.7/site-packages/ipykernel_launcher.py:30: ParserWarning: Falling back to the 'python' engine because the 'c' engine does not support skipfooter; you can avoid this warning by specifying engine='python'.\n"
     ]
    }
   ],
   "source": [
    "for s in SYMBOLS:\n",
    "    save_with_short(s, \"US\", API_KEY)"
   ],
   "metadata": {
    "collapsed": false,
    "pycharm": {
     "name": "#%%\n",
     "is_executing": true
    }
   }
  },
  {
   "cell_type": "code",
   "execution_count": null,
   "outputs": [],
   "source": [
    "\n"
   ],
   "metadata": {
    "collapsed": false,
    "pycharm": {
     "name": "#%%\n"
    }
   }
  }
 ],
 "metadata": {
  "kernelspec": {
   "display_name": "Python 3",
   "language": "python",
   "name": "python3"
  },
  "language_info": {
   "codemirror_mode": {
    "name": "ipython",
    "version": 2
   },
   "file_extension": ".py",
   "mimetype": "text/x-python",
   "name": "python",
   "nbconvert_exporter": "python",
   "pygments_lexer": "ipython2",
   "version": "2.7.6"
  }
 },
 "nbformat": 4,
 "nbformat_minor": 0
}