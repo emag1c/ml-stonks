{
 "cells": [
  {
   "cell_type": "code",
   "execution_count": 3,
   "outputs": [],
   "source": [
    "import torch\n",
    "import numpy as np\n",
    "import torch.nn.functional as F\n",
    "import torch.nn as nn"
   ],
   "metadata": {
    "collapsed": false,
    "pycharm": {
     "name": "#%%\n"
    }
   }
  },
  {
   "cell_type": "markdown",
   "source": [
    "### Testing hand coding xavier normalization"
   ],
   "metadata": {
    "collapsed": false,
    "pycharm": {
     "name": "#%% md\n"
    }
   }
  },
  {
   "cell_type": "code",
   "execution_count": 70,
   "outputs": [
    {
     "data": {
      "text/plain": "(tensor(1.4480e-05, dtype=torch.float64),\n tensor(1.0055, dtype=torch.float64),\n tensor(-0.1182, dtype=torch.float64),\n tensor(0.1194, dtype=torch.float64),\n tensor(0.8829, dtype=torch.float64),\n tensor(1.1382, dtype=torch.float64))"
     },
     "execution_count": 70,
     "metadata": {},
     "output_type": "execute_result"
    }
   ],
   "source": [
    "ndim = 512\n",
    "x = torch.tensor(np.random.normal(size=(ndim, ndim), scale=np.sqrt(1/ndim)))\n",
    "for _ in range(1000):\n",
    "    w = torch.tensor(np.random.normal(size=(ndim, ndim), scale=np.sqrt(1/ndim)))\n",
    "    x = F.selu(x@w)\n",
    "\n",
    "m = x.mean(dim=1)\n",
    "s = x.std(dim=1)\n",
    "x.mean(), x.std(), m.min(), m.max(), s.min(), s.max()"
   ],
   "metadata": {
    "collapsed": false,
    "pycharm": {
     "name": "#%% code\n"
    }
   }
  },
  {
   "cell_type": "markdown",
   "source": [
    "### Testing kaiming normal with selu\n",
    "\n",
    "kaiming is terrible when using selu, as expected"
   ],
   "metadata": {
    "collapsed": false,
    "pycharm": {
     "name": "#%% md\n"
    }
   }
  },
  {
   "cell_type": "code",
   "execution_count": 58,
   "outputs": [
    {
     "data": {
      "text/plain": "(tensor(132.1720),\n tensor(226.7363),\n tensor(44.5111),\n tensor(288.9836),\n tensor(71.3681),\n tensor(450.4102))"
     },
     "execution_count": 58,
     "metadata": {},
     "output_type": "execute_result"
    }
   ],
   "source": [
    "x = nn.init.kaiming_normal_(torch.empty((100,100)), mode='fan_out')\n",
    "for _ in range(100):\n",
    "    w = nn.init.kaiming_normal_(torch.empty((100,100)), mode='fan_out')\n",
    "    x = F.selu(x@w)\n",
    "\n",
    "m = x.mean(dim=1)\n",
    "s = x.std(dim=1)\n",
    "x.mean(), x.std(), m.min(), m.max(), s.min(), s.max()"
   ],
   "metadata": {
    "collapsed": false,
    "pycharm": {
     "name": "#%% code\n"
    }
   }
  },
  {
   "cell_type": "markdown",
   "source": [
    "### Testing xavier normal with selu\n",
    "\n",
    "xavier normal with selu appears to be far superior"
   ],
   "metadata": {
    "collapsed": false,
    "pycharm": {
     "name": "#%% md\n"
    }
   }
  },
  {
   "cell_type": "code",
   "execution_count": 75,
   "outputs": [
    {
     "data": {
      "text/plain": "(tensor(0.0232),\n tensor(0.9790),\n tensor(-0.1307),\n tensor(0.1830),\n tensor(0.7782),\n tensor(1.1792))"
     },
     "execution_count": 75,
     "metadata": {},
     "output_type": "execute_result"
    }
   ],
   "source": [
    "x = nn.init.xavier_normal_(torch.zeros((100,100)))\n",
    "for _ in range(1000):\n",
    "    w = nn.init.xavier_normal_(torch.zeros((100,100)))\n",
    "    x = F.selu(x@w)\n",
    "\n",
    "m = x.mean(dim=1)\n",
    "s = x.std(dim=1)\n",
    "x.mean(), x.std(), m.min(), m.max(), s.min(), s.max()"
   ],
   "metadata": {
    "collapsed": false,
    "pycharm": {
     "name": "#%%\n"
    }
   }
  },
  {
   "cell_type": "markdown",
   "source": [
    "### Testing selu paper's recommendation with np based selu func"
   ],
   "metadata": {
    "collapsed": false,
    "pycharm": {
     "name": "#%% md\n"
    }
   }
  },
  {
   "cell_type": "code",
   "execution_count": 62,
   "outputs": [
    {
     "data": {
      "text/plain": "(-0.006943016470394205,\n 0.9831865049501114,\n -0.17200409046748186,\n 0.1426579564326867,\n 0.753801801554161,\n 1.2165376012023728)"
     },
     "execution_count": 62,
     "metadata": {},
     "output_type": "execute_result"
    }
   ],
   "source": [
    "import numpy as np\n",
    "\n",
    "def selu_np(x):\n",
    "    alpha = 1.6732632423543772848170429916717\n",
    "    scale = 1.0507009873554804934193349852946\n",
    "    return scale*np.where(x>=0.0, x, alpha*np.exp(x)-alpha)\n",
    "\n",
    "x = np.random.normal(size=(200, 200))\n",
    "for _ in range(100):\n",
    "    w = np.random.normal(size=(200, 200), scale=np.sqrt(1/200))\n",
    "    x = selu_np(np.dot(x, w))\n",
    "\n",
    "m = np.mean(x, axis=1)\n",
    "s = np.std(x, axis=1)\n",
    "x.mean(), x.std(), m.min(), m.max(), s.min(), s.max()\n"
   ],
   "metadata": {
    "collapsed": false,
    "pycharm": {
     "name": "#%% code\n"
    }
   }
  },
  {
   "cell_type": "code",
   "execution_count": null,
   "outputs": [],
   "source": [
    "\n"
   ],
   "metadata": {
    "collapsed": false,
    "pycharm": {
     "name": "#%%\n"
    }
   }
  }
 ],
 "metadata": {
  "kernelspec": {
   "display_name": "Python 3",
   "language": "python",
   "name": "python3"
  },
  "language_info": {
   "codemirror_mode": {
    "name": "ipython",
    "version": 2
   },
   "file_extension": ".py",
   "mimetype": "text/x-python",
   "name": "python",
   "nbconvert_exporter": "python",
   "pygments_lexer": "ipython2",
   "version": "2.7.6"
  }
 },
 "nbformat": 4,
 "nbformat_minor": 0
}