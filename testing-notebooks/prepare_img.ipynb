{
 "cells": [
  {
   "cell_type": "markdown",
   "source": [
    "set the imports"
   ],
   "metadata": {
    "collapsed": false
   }
  },
  {
   "cell_type": "code",
   "execution_count": null,
   "outputs": [],
   "source": [
    "import os\n",
    "import pandas as pd\n",
    "import numpy as np\n",
    "from matplotlib import pyplot as plt\n",
    "# import mplfinance as mpf\n",
    "import yfinance as yf\n",
    "module_path = os.path.abspath(os.path.join('..'))\n",
    "if module_path not in sys.path:\n",
    "    sys.path.append(module_path)\n",
    "\n",
    "from talib import abstract\n",
    "# add base to the modules\n",
    "from indicators import indicators as ind\n",
    "from indicators import normalize as nor\n",
    "from matplotlib import pyplot as plt\n",
    "from typing import Union, Tuple\n",
    "import math\n",
    "\n",
    "# plt.style.use('dark_background')\n",
    "%matplotlib inline"
   ],
   "metadata": {
    "collapsed": false,
    "pycharm": {
     "name": "#%%\n"
    }
   }
  },
  {
   "cell_type": "markdown",
   "source": [
    "### Set the symbol"
   ],
   "metadata": {
    "collapsed": false
   }
  },
  {
   "cell_type": "code",
   "execution_count": null,
   "outputs": [],
   "source": [
    "symbol = \"DIA\""
   ],
   "metadata": {
    "collapsed": false,
    "pycharm": {
     "name": "#%%\n"
    }
   }
  },
  {
   "cell_type": "code",
   "execution_count": null,
   "outputs": [],
   "source": [
    "def load_ticker(sym, period=\"5y\", interval=\"1d\"):\n",
    "    spy = yf.Ticker(sym)\n",
    "    return spy.history(period, interval).reset_index()"
   ],
   "metadata": {
    "collapsed": false,
    "pycharm": {
     "name": "#%% code\n"
    }
   }
  },
  {
   "cell_type": "markdown",
   "source": [
    "### load ticker function"
   ],
   "metadata": {
    "collapsed": false
   }
  },
  {
   "cell_type": "code",
   "execution_count": null,
   "outputs": [],
   "source": [
    "df = load_ticker(symbol)\n",
    "df.info()"
   ],
   "metadata": {
    "collapsed": false,
    "pycharm": {
     "name": "#%%\n"
    }
   }
  },
  {
   "cell_type": "code",
   "execution_count": null,
   "outputs": [],
   "source": [
    "print(df.head())"
   ],
   "metadata": {
    "collapsed": false,
    "pycharm": {
     "name": "#%%\n"
    }
   }
  },
  {
   "cell_type": "markdown",
   "source": [
    "## Plot the data to get an idea of the shape"
   ],
   "metadata": {
    "collapsed": false
   }
  },
  {
   "cell_type": "code",
   "execution_count": null,
   "outputs": [],
   "source": [
    "plt.figure(figsize=(12,12))\n",
    "# plot the chart\n",
    "df.plot(x=\"Date\", y='Close', kind=\"line\", title=f\"{symbol} Close\", figsize=(15,5))\n",
    "plt.legend(loc=\"best\")"
   ],
   "metadata": {
    "collapsed": false,
    "pycharm": {
     "name": "#%% code \n"
    }
   }
  },
  {
   "cell_type": "markdown",
   "source": [
    "## Price Indicators\n",
    "Bollinger Bands, Keltner Channels, EMA, and SMA values"
   ],
   "metadata": {
    "collapsed": false
   }
  },
  {
   "cell_type": "code",
   "execution_count": null,
   "outputs": [],
   "source": [
    "df['Mid'] = ind.mid(df['Open'].values, df['Close'].values)"
   ],
   "metadata": {
    "collapsed": false,
    "pycharm": {
     "name": "#%%\n"
    }
   }
  },
  {
   "cell_type": "code",
   "execution_count": null,
   "outputs": [],
   "source": [
    "WINDOW = 60"
   ],
   "metadata": {
    "collapsed": false,
    "pycharm": {
     "name": "#%%\n"
    }
   }
  },
  {
   "cell_type": "markdown",
   "source": [
    "### Basic Trend Indicators\n",
    "\n",
    "EMA, SMA, and linear regression"
   ],
   "metadata": {
    "collapsed": false
   }
  },
  {
   "cell_type": "code",
   "execution_count": null,
   "outputs": [],
   "source": [
    "price_periods = (3,6,12,20,30,50)"
   ],
   "metadata": {
    "collapsed": false,
    "pycharm": {
     "name": "#%%\n"
    }
   }
  },
  {
   "cell_type": "code",
   "execution_count": null,
   "outputs": [],
   "source": [
    "def get_price_indicators(df: pd.DataFrame, periods: tuple):\n",
    "    f = df[['Mid']]\n",
    "    for i in periods:\n",
    "        f[f'EMA_{i}'] = ind.ema(df['Mid'].values, i)\n",
    "        f[f'LREG_{i}'] = ind.rolling_lin(df['Mid'].values, i)\n",
    "        f[f'SMA_{i}'] = ind.sma(df['Mid'].values, i)\n",
    "\n",
    "    cols = ['Mid']\n",
    "\n",
    "    # rearrange columns for output\n",
    "    for i in periods:\n",
    "        cols.append(f'EMA_{i}')\n",
    "    for i in periods:\n",
    "        cols.append(f'LREG_{i}')\n",
    "    for i in periods:\n",
    "        cols.append(f'SMA_{i}')\n",
    "    return f[cols]\n"
   ],
   "metadata": {
    "collapsed": false,
    "pycharm": {
     "name": "#%% code\n"
    }
   }
  },
  {
   "cell_type": "code",
   "execution_count": null,
   "outputs": [],
   "source": [
    "# add the price indicators to the dataframe\n",
    "price_df = get_price_indicators(df, price_periods)"
   ],
   "metadata": {
    "collapsed": false,
    "pycharm": {
     "name": "#%% code\n"
    }
   }
  },
  {
   "cell_type": "code",
   "execution_count": null,
   "outputs": [],
   "source": [
    "# price_df = get_price_indicators(df, tuple(range(3,20)))\n",
    "price_df.tail(WINDOW*2).plot(kind=\"line\", title=f\"{symbol} price indicators\", figsize=(16,8))"
   ],
   "metadata": {
    "collapsed": false,
    "pycharm": {
     "name": "#%%\n"
    }
   }
  },
  {
   "cell_type": "markdown",
   "source": [
    "### SAR"
   ],
   "metadata": {
    "collapsed": false
   }
  },
  {
   "cell_type": "code",
   "execution_count": null,
   "outputs": [],
   "source": [
    "sar_accelerations = (.1,.2,.3,.4,.5)"
   ],
   "metadata": {
    "collapsed": false,
    "pycharm": {
     "name": "#%%\n"
    }
   }
  },
  {
   "cell_type": "code",
   "execution_count": null,
   "outputs": [],
   "source": [
    "# smoothed sar seperated as it uses a different set of values\n",
    "def get_sar_frame(df: pd.DataFrame, accelerations: tuple)->pd.DataFrame:\n",
    "    f = pd.DataFrame(index=df.index)\n",
    "    for i in accelerations:\n",
    "        f[f'SAR_{i}'] = ind.ema(ind.sar(df['High'], df['Low'], float(i), 1.), int(i*100))\n",
    "    return f"
   ],
   "metadata": {
    "collapsed": false,
    "pycharm": {
     "name": "#%%\n"
    }
   }
  },
  {
   "cell_type": "code",
   "execution_count": null,
   "outputs": [],
   "source": [
    "sar_df = get_sar_frame(df, sar_accelerations)\n",
    "sar_df.tail(WINDOW*2).plot(kind=\"line\", figsize=(16,4))"
   ],
   "metadata": {
    "collapsed": false,
    "pycharm": {
     "name": "#%%\n"
    }
   }
  },
  {
   "cell_type": "code",
   "execution_count": null,
   "outputs": [],
   "source": [
    "def get_bar_df(df: pd.DataFrame, periods: tuple) -> pd.DataFrame:\n",
    "    f = pd.DataFrame(index=df.index)\n",
    "    # top wave\n",
    "    f['MID_V_HIGH'] = df['High'] - df['Mid']\n",
    "    for i in periods:\n",
    "        f[f'MID_V_HIGH_SMA_{i}'] = ind.sma(f['MID_V_HIGH'].values, i)\n",
    "\n",
    "    # bottom wave\n",
    "    f['MID_V_LOW'] = df['Low'] - df['Mid']\n",
    "    for i in periods:\n",
    "        f[f'MID_V_LOW_SMA_{i}'] = ind.sma(f['MID_V_LOW'].values, i)\n",
    "\n",
    "    # high vs low\n",
    "    f['HIGH_V_LOW'] = df['High'] - df['Low']\n",
    "    for i in periods:\n",
    "        f[f'HIGH_V_LOW_SMA_{i}'] = ind.sma(f['HIGH_V_LOW'].values, i)\n",
    "\n",
    "    return f"
   ],
   "metadata": {
    "collapsed": false,
    "pycharm": {
     "name": "#%%\n"
    }
   }
  },
  {
   "cell_type": "code",
   "execution_count": null,
   "outputs": [],
   "source": [
    "bar_df = get_bar_df(df, price_periods[:-2])\n",
    "# plot the dataframe with the indicators\n",
    "bar_df.tail(30).plot(figsize=(32,16))"
   ],
   "metadata": {
    "collapsed": false,
    "pycharm": {
     "name": "#%%\n"
    }
   }
  },
  {
   "cell_type": "markdown",
   "source": [
    "### BAR indicators\n",
    "day to day gaps and bar sizes"
   ],
   "metadata": {
    "collapsed": false
   }
  },
  {
   "cell_type": "code",
   "execution_count": null,
   "outputs": [],
   "source": [
    "def get_gap_df(df: pd.DataFrame, periods: tuple) -> pd.DataFrame:\n",
    "    o = np.delete(df['Open'].to_numpy(), 0)\n",
    "    c = df['Close'].to_numpy()[:-1]\n",
    "    gap_pc = (o - c) / c\n",
    "    gap_up = np.concatenate(([np.nan], np.where(gap_pc > 0, gap_pc, 0.)))\n",
    "    gap_down = np.concatenate(([np.nan], np.where(gap_pc < 0, gap_pc, 0.)))\n",
    "    f = pd.DataFrame(index=df.index)\n",
    "    for i in periods:     \n",
    "        f[f'GAPU_SMA_{i}'] = ind.sma(gap_up, i)\n",
    "    for i in periods:     \n",
    "        f[f'GAPD_SMA_{i}'] = ind.sma(gap_down, i)\n",
    "    return f"
   ],
   "metadata": {
    "collapsed": false,
    "pycharm": {
     "name": "#%%\n"
    }
   }
  },
  {
   "cell_type": "code",
   "execution_count": null,
   "outputs": [],
   "source": [
    "gap_df = get_gap_df(df, price_periods[:-2])\n",
    "# plot the dataframe with the indicators\n",
    "gap_df.tail(30).plot(figsize=(32,16))"
   ],
   "metadata": {
    "collapsed": false,
    "pycharm": {
     "name": "#%%\n"
    }
   }
  },
  {
   "cell_type": "markdown",
   "source": [
    "### Channel Indicators\n",
    "Bbands + Keltner channel"
   ],
   "metadata": {
    "collapsed": false
   }
  },
  {
   "cell_type": "code",
   "execution_count": null,
   "outputs": [],
   "source": [
    "def get_channel_indicators(df: pd.DataFrame, periods: tuple)->tuple:\n",
    "    f = pd.DataFrame(index=df.index)\n",
    "    for i in periods:\n",
    "        bb2u, _, bb2l = ind.bbands(df['Mid'].values, i, 2.)\n",
    "        bb3u, _, bb3l = ind.bbands(df['Mid'].values, i, 2.)\n",
    "        # bb3u, _, bb3l = ind.bbands(df['Mid'].values, i, 3.)\n",
    "        ku, kl, _ = ind.keltner_channels(df['High'].values, df['Low'].values, df['Close'].values, i)\n",
    "        # f[f'BB3U_{i}'] = bb3u\n",
    "        f[f'BB3U_{i}'] = bb3u\n",
    "        f[f'BB2U_{i}'] = bb2u\n",
    "        f[f'KELU_{i}'] = ku\n",
    "        # f[f'BB3L_{i}'] = bb3l\n",
    "        f[f'KELL_{i}'] = kl\n",
    "        f[f'BB2L_{i}'] = bb2l\n",
    "        f[f'BB3L_{i}'] = bb3l\n",
    "\n",
    "    cols = []\n",
    "\n",
    "    # rearrange columns for output\n",
    "    for i in periods:\n",
    "        cols.append(f'KELU_{i}')\n",
    "    for i in periods:\n",
    "        cols.append(f'KELL_{i}')\n",
    "    for i in periods:\n",
    "        cols.append(f'BB2U_{i}')\n",
    "    for i in periods:\n",
    "        cols.append(f'BB2L_{i}')\n",
    "    for i in periods:\n",
    "        cols.append(f'BB3U_{i}')\n",
    "    for i in periods:\n",
    "        cols.append(f'BB3L_{i}')\n",
    "    return f, f[cols]"
   ],
   "metadata": {
    "collapsed": false,
    "pycharm": {
     "name": "#%%\n"
    }
   }
  },
  {
   "cell_type": "code",
   "execution_count": null,
   "outputs": [],
   "source": [
    "channel_df, channel_df_b = get_channel_indicators(df, price_periods)\n",
    "channel_df_b.tail(WINDOW).plot(kind=\"line\", title=f\"{symbol} channel indicators\", figsize=(32,16))"
   ],
   "metadata": {
    "collapsed": false,
    "pycharm": {
     "name": "#%%\n"
    }
   }
  },
  {
   "cell_type": "markdown",
   "source": [
    "### BBAND SPREAD"
   ],
   "metadata": {
    "collapsed": false
   }
  },
  {
   "cell_type": "code",
   "execution_count": null,
   "outputs": [],
   "source": [
    "def get_bband_spread_df(df: pd.DataFrame, periods: Tuple[int])->pd.DataFrame:\n",
    "    f = pd.DataFrame(index=df.index)\n",
    "    for i in periods:\n",
    "        bbu, _, bbl = ind.bbands(df['Close'], i, 2.)\n",
    "        f[f'BBAND_DIFF_{i}'] = bbu - bbl\n",
    "    return f"
   ],
   "metadata": {
    "collapsed": false,
    "pycharm": {
     "name": "#%%\n"
    }
   }
  },
  {
   "cell_type": "code",
   "execution_count": null,
   "outputs": [],
   "source": [
    "bbd_df = get_bband_spread_df(df, price_periods)\n",
    "# plot ease of movement\n",
    "bbd_df.tail(WINDOW).plot(figsize=(16,4))"
   ],
   "metadata": {
    "collapsed": false,
    "pycharm": {
     "name": "#%%\n"
    }
   }
  },
  {
   "cell_type": "markdown",
   "source": [
    "### BBAND price convergence"
   ],
   "metadata": {
    "collapsed": false
   }
  },
  {
   "cell_type": "code",
   "execution_count": null,
   "outputs": [],
   "source": [
    "def get_bband_price_conv_df(df: pd.DataFrame, periods: Tuple[int])->tuple:\n",
    "    f = pd.DataFrame(index=df.index)\n",
    "    for i in periods:\n",
    "        bbu, _, bbl = ind.bbands(df['Mid'], i, 2.)\n",
    "        f[f'BBANDU_DIFF_{i}'] = bbu - df['High'].values\n",
    "        f[f'BBANDL_DIFF_{i}'] = df['Low'].values - bbl\n",
    "    cols = []\n",
    "    # rearrange the columns\n",
    "    for i in periods:\n",
    "        cols.append(f'BBANDU_DIFF_{i}')\n",
    "    for i in periods:\n",
    "        cols.append(f'BBANDL_DIFF_{i}')        \n",
    "    return f, f[cols]"
   ],
   "metadata": {
    "collapsed": false,
    "pycharm": {
     "name": "#%%\n"
    }
   }
  },
  {
   "cell_type": "code",
   "execution_count": null,
   "outputs": [],
   "source": [
    "bbpd_df, bbpd_df_b = get_bband_price_conv_df(df, price_periods[:-2])\n",
    "# plot ease of movement\n",
    "bbpd_df_a.tail(WINDOW*2).plot(figsize=(16,4))"
   ],
   "metadata": {
    "collapsed": false,
    "pycharm": {
     "name": "#%%\n"
    }
   }
  },
  {
   "cell_type": "markdown",
   "source": [
    "### Linear Regression Slope"
   ],
   "metadata": {
    "collapsed": false
   }
  },
  {
   "cell_type": "code",
   "execution_count": null,
   "outputs": [],
   "source": [
    "def get_lin_slope_df(df: pd.DataFrame, periods: Tuple[int])->pd.DataFrame:\n",
    "    f = pd.DataFrame(index=df.index)\n",
    "    for i in periods:\n",
    "        f[f'LREGSL_{i}'] = ind.rolling_lin_slope(df['Mid'].values, i)\n",
    "    return f"
   ],
   "metadata": {
    "collapsed": false,
    "pycharm": {
     "name": "#%%\n"
    }
   }
  },
  {
   "cell_type": "code",
   "execution_count": null,
   "outputs": [],
   "source": [
    "lin_slope_df = get_lin_slope_df(df, price_periods)\n",
    "# plot ease of movement\n",
    "lin_slope_df.tail(WINDOW*2).plot(figsize=(16,4))"
   ],
   "metadata": {
    "collapsed": false,
    "pycharm": {
     "name": "#%%\n"
    }
   }
  },
  {
   "cell_type": "markdown",
   "source": [
    "### Volume"
   ],
   "metadata": {
    "collapsed": false
   }
  },
  {
   "cell_type": "code",
   "execution_count": null,
   "outputs": [],
   "source": [
    "def get_volume_df(vol: np.array, periods: Tuple[int])->pd.DataFrame:\n",
    "    f = pd.DataFrame(index=df.index)\n",
    "    f[\"Volume\"] = vol\n",
    "    for i in periods:\n",
    "        f[f'VOL_{i}'] = ind.sma(vol.astype(np.float), i)\n",
    "    return f"
   ],
   "metadata": {
    "collapsed": false,
    "pycharm": {
     "name": "#%%\n"
    }
   }
  },
  {
   "cell_type": "code",
   "execution_count": null,
   "outputs": [],
   "source": [
    "vol_df = get_volume_df(df['Volume'].to_numpy(), price_periods)\n",
    "# plot ease\n",
    "vol_df['Volume']\n",
    "vol_df.tail(WINDOW*2).plot(figsize=(16,4))"
   ],
   "metadata": {
    "collapsed": false,
    "pycharm": {
     "name": "#%%\n"
    }
   }
  },
  {
   "cell_type": "markdown",
   "source": [
    "### Ease of Movement"
   ],
   "metadata": {
    "collapsed": false
   }
  },
  {
   "cell_type": "code",
   "execution_count": null,
   "outputs": [],
   "source": [
    "def get_eom_oscillator_frame(df: pd.DataFrame, window:int, periods: Tuple[int])->pd.DataFrame:\n",
    "    f = pd.DataFrame(index=df.index)\n",
    "    for i in periods:\n",
    "        f[f'EOME_{i}'] = ind.eome(df['Volume'].values, df['Close'].values, window, i)\n",
    "    return f"
   ],
   "metadata": {
    "collapsed": false,
    "pycharm": {
     "name": "#%% code\n"
    }
   }
  },
  {
   "cell_type": "code",
   "execution_count": null,
   "outputs": [],
   "source": [
    "eom_df = get_eom_oscillator_frame(df, WINDOW, price_periods[:-2])\n",
    "# plot ease of movement\n",
    "eom_df.tail(WINDOW*2).plot(figsize=(16,4))"
   ],
   "metadata": {
    "collapsed": false,
    "pycharm": {
     "name": "#%%\n"
    }
   }
  },
  {
   "cell_type": "markdown",
   "source": [
    "### ADOSC"
   ],
   "metadata": {
    "collapsed": false
   }
  },
  {
   "cell_type": "code",
   "execution_count": null,
   "outputs": [],
   "source": [
    "def get_adosc_oscillator_frame(df: pd.DataFrame, periods: Tuple[int])->pd.DataFrame:\n",
    "    f = pd.DataFrame(index=df.index)\n",
    "    pre = periods[0]\n",
    "    for i in range(1,len(periods)):\n",
    "        f[f'ADOSC_{pre}_{periods[i]}'] = ind.adosc(df[\"High\"], df[\"Low\"], df[\"Close\"], df[\"Volume\"], pre, periods[i])\n",
    "        pre = periods[i]\n",
    "    return f\n"
   ],
   "metadata": {
    "collapsed": false,
    "pycharm": {
     "name": "#%%\n"
    }
   }
  },
  {
   "cell_type": "code",
   "execution_count": null,
   "outputs": [],
   "source": [
    "# adosc\n",
    "adosc_df = get_adosc_oscillator_frame(df, price_periods)\n",
    "adosc_df.tail(WINDOW).plot(figsize=(16,4))"
   ],
   "metadata": {
    "collapsed": false,
    "pycharm": {
     "name": "#%%\n"
    }
   }
  },
  {
   "cell_type": "markdown",
   "source": [
    "### EMA C/D"
   ],
   "metadata": {
    "collapsed": false
   }
  },
  {
   "cell_type": "code",
   "execution_count": null,
   "outputs": [],
   "source": [
    "def get_ema_cd_frame(df: pd.DataFrame, periods: Tuple[int])->pd.DataFrame:\n",
    "    f = pd.DataFrame(index=df.index)\n",
    "    pre = periods[0]\n",
    "    for i in range(1,len(periods)):\n",
    "        f[f'EMA_CD_{pre}_{periods[i]}'] = ind.ema(df['Mid'].values, pre) - ind.ema(df['Mid'].values, periods[i])\n",
    "    return f"
   ],
   "metadata": {
    "collapsed": false,
    "pycharm": {
     "name": "#%%\n"
    }
   }
  },
  {
   "cell_type": "code",
   "execution_count": null,
   "outputs": [],
   "source": [
    "ema_cd_df = get_ema_cd_frame(df, price_periods)\n",
    "ema_cd_df.tail(WINDOW).plot(figsize=(16,4))"
   ],
   "metadata": {
    "collapsed": false,
    "pycharm": {
     "name": "#%%\n"
    }
   }
  },
  {
   "cell_type": "markdown",
   "source": [
    "### ATR"
   ],
   "metadata": {
    "collapsed": false
   }
  },
  {
   "cell_type": "code",
   "execution_count": null,
   "outputs": [],
   "source": [
    "def get_atr_frame(df: pd.DataFrame, periods: tuple)->pd.DataFrame:\n",
    "    f = pd.DataFrame(index=df.index)\n",
    "    for i in periods:\n",
    "        f[f'ATR_{i}'] = ind.atr(df['High'], df['Low'], df['Close'], i)\n",
    "    return f"
   ],
   "metadata": {
    "collapsed": false,
    "pycharm": {
     "name": "#%%\n"
    }
   }
  },
  {
   "cell_type": "code",
   "execution_count": null,
   "outputs": [],
   "source": [
    "atr_df = get_atr_frame(df, price_periods)\n",
    "atr_df.tail(WINDOW).plot(figsize=(16,4))"
   ],
   "metadata": {
    "collapsed": false,
    "pycharm": {
     "name": "#%%\n"
    }
   }
  },
  {
   "cell_type": "markdown",
   "source": [
    "### ADX"
   ],
   "metadata": {
    "collapsed": false
   }
  },
  {
   "cell_type": "code",
   "execution_count": null,
   "outputs": [],
   "source": [
    "def get_adx_frame(df: pd.DataFrame, periods: tuple)->pd.DataFrame:\n",
    "    f = pd.DataFrame(index=df.index)\n",
    "    for i in periods:\n",
    "        f[f'ADX_{i}'] = ind.adx(df['High'].values, df['Low'].values, df['Close'].values, i)\n",
    "    return f"
   ],
   "metadata": {
    "collapsed": false,
    "pycharm": {
     "name": "#%%\n"
    }
   }
  },
  {
   "cell_type": "code",
   "execution_count": null,
   "outputs": [],
   "source": [
    "adx_df = get_adx_frame(df, price_periods[:-2])\n",
    "adx_df.tail(WINDOW).plot(figsize=(16,4))"
   ],
   "metadata": {
    "collapsed": false,
    "pycharm": {
     "name": "#%%\n"
    }
   }
  },
  {
   "cell_type": "code",
   "execution_count": null,
   "outputs": [],
   "source": [],
   "metadata": {
    "collapsed": false,
    "pycharm": {
     "name": "#%%\n"
    }
   }
  },
  {
   "cell_type": "markdown",
   "source": [
    "### Get Labels\n",
    "\n",
    "labels will be the rounded average future change"
   ],
   "metadata": {
    "collapsed": false
   }
  },
  {
   "cell_type": "code",
   "execution_count": null,
   "outputs": [],
   "source": [
    "def discretize(a: np.array, \n",
    "               bins: Union[list, tuple], \n",
    "               labels: Union[None, list, tuple]=None,\n",
    "               right=False) -> np.array:\n",
    "    \"\"\"\n",
    "    discretize a numpy array into bins\n",
    "    if labels is given then apply those lables\n",
    "    \"\"\"\n",
    "    if labels == None:\n",
    "        labels = bins\n",
    "\n",
    "    assert len(bins)== len(labels)\n",
    "\n",
    "    bins_by_labels = dict(zip(range(0,len(bins)), labels))\n",
    "    digitized = np.digitize(np.nan_to_num(a, nan=.0), bins=bins, right=right)\n",
    "    res = np.empty((0))\n",
    "\n",
    "    for v in digitized:\n",
    "        for b, l in bins_by_labels.items():\n",
    "            if v == b:\n",
    "                res = np.append(res, [l])\n",
    "                    \n",
    "    return res"
   ],
   "metadata": {
    "collapsed": false,
    "pycharm": {
     "name": "#%%\n"
    }
   }
  },
  {
   "cell_type": "code",
   "execution_count": null,
   "outputs": [],
   "source": [
    "# get average future change percentage 3 days into the future\n",
    "avg_future_change = ind.apfc(df['Close'], 3, 3)\n",
    "future_change = discretize(avg_future_change, [-.1, -.05, -0.01, .01, .05, .1, np.inf], [-.1, -.05, -.01, 0, .01, .05, .1])"
   ],
   "metadata": {
    "collapsed": false,
    "pycharm": {
     "name": "#%%\n"
    }
   }
  },
  {
   "cell_type": "code",
   "execution_count": null,
   "outputs": [],
   "source": [
    "chart = pd.DataFrame()\n",
    "chart['label'] = future_change\n",
    "chart['AFC'] = avg_future_change\n",
    "chart['Mid'] = df['Mid']\n",
    "chart.tail(WINDOW*2).plot(figsize=(16,4), secondary_y=['Mid'])"
   ],
   "metadata": {
    "collapsed": false,
    "pycharm": {
     "name": "#%%\n"
    }
   }
  },
  {
   "cell_type": "markdown",
   "source": [
    "### Create images"
   ],
   "metadata": {
    "collapsed": false
   }
  },
  {
   "cell_type": "code",
   "execution_count": null,
   "outputs": [],
   "source": [
    "# set up the create image functions\n",
    "def create_pixels(a) -> tuple:\n",
    "    # crete pixels where green and blue values are tanh normalized percent change values\n",
    "    # red indicates negative percent change, green indicates positive percent change\n",
    "    # pc = np.tanh(nor.min_max(ind.delta(s.values) * 2 -1))\n",
    "    # pc = np.tanh(ind.delta(a))\n",
    "    pc = nor.min_max(nor.zscore(a)) * 2 - 1\n",
    "    g = np.where(pc > 0, pc * a + (1. - a), 0.0)\n",
    "    r = np.where(pc < 0, -pc * a + (1. - a), 0.0)\n",
    "    return r, g, a\n",
    "\n",
    "def min_max_all(df: pd.DataFrame) -> pd.DataFrame:\n",
    "    max_v: np.Float = None\n",
    "    min_v: np.Float = None\n",
    "\n",
    "    for col in df.columns:\n",
    "        max_v = df[col].max() if max_v is None else max(max_v, df[col].max())\n",
    "        min_v = df[col].min() if min_v is None else min(min_v, df[col].min())\n",
    "\n",
    "    return (df - min_v) / (max_v - min_v)\n",
    "\n",
    "def create_image(frames: list, label, mirror=int) -> tuple:\n",
    "    idf: pd.DataFrame = None\n",
    "    columns = []\n",
    "    for frame in frames:\n",
    "        # normalize the price-relative data across\n",
    "        norm_df = min_max_all(frame)\n",
    "        if idf is None:\n",
    "            idf = pd.DataFrame(index=norm_df.index)\n",
    "\n",
    "        for col in norm_df.columns:\n",
    "            columns.append(col)\n",
    "            idf[col + '_r'], idf[col + '_g'], idf[col + '_b'] = create_pixels(norm_df[col].to_numpy())\n",
    "\n",
    "    # todo: handle oscillator values\n",
    "    # image h x w = window size x number of features. 3 = rgb values\n",
    "    idf = idf.dropna()\n",
    "    # reset the index\n",
    "    idf = idf.reset_index(drop=True)\n",
    "    img1 = np.zeros((len(idf), len(columns), 3))\n",
    "    for i, row in idf.iterrows():\n",
    "        vals = []\n",
    "        for col in columns:\n",
    "            vals.append((row[col+'_r'], row[col+'_g'], row[col+'_b']))\n",
    "        img1[i] = tuple(vals)\n",
    "    # mirror\n",
    "    if mirror > 0:\n",
    "        img_len = len(img1)\n",
    "        for i in range(0, mirror):\n",
    "            img1 = np.concatenate((img1, [img1[img_len - i - 1]]))\n",
    "\n",
    "    # return everything but the first row as the first low has no RGB data\n",
    "    return img1[1:], label"
   ],
   "metadata": {
    "collapsed": false,
    "pycharm": {
     "name": "#%% code\n"
    }
   }
  },
  {
   "cell_type": "code",
   "execution_count": null,
   "outputs": [],
   "source": [
    "start = 100+192\n",
    "col_len = (\n",
    "    len(price_df.columns)\n",
    "    + len(channel_df.columns)\n",
    "    + len(sar_df.columns)\n",
    "    + len(bar_df.columns)\n",
    "    + len(bbd_df.columns)\n",
    "    + len(gap_df.columns)\n",
    "    + len(adx_df.columns)\n",
    "    + len(atr_df.columns)\n",
    "    + len(lin_slope_df.columns)\n",
    "    + len(eom_df.columns)\n",
    "    + len(vol_df.columns))\n",
    "mirror = int(math.floor(col_len/4))\n",
    "window = mirror * 3"
   ],
   "metadata": {
    "collapsed": false,
    "pycharm": {
     "name": "#%%\n"
    }
   }
  },
  {
   "cell_type": "code",
   "execution_count": null,
   "outputs": [],
   "source": [
    "print(f'x = {col_len}, y={mirror} + {window} = {mirror+window}')"
   ],
   "metadata": {
    "collapsed": false,
    "pycharm": {
     "name": "#%%\n"
    }
   }
  },
  {
   "cell_type": "code",
   "execution_count": null,
   "outputs": [],
   "source": [
    "start_b = 100+192\n",
    "col_len_b = (\n",
    "    len(price_df.columns)\n",
    "    + len(channel_df.columns)\n",
    "    + len(sar_df.columns)\n",
    "    + len(bar_df.columns)\n",
    "    + len(gap_df.columns)\n",
    "    + len(adx_df.columns)\n",
    "    + len(atr_df.columns)\n",
    "    + len(eom_df.columns)\n",
    "    + len(vol_df.columns))\n",
    "mirror_b = int(math.floor(col_len/4))\n",
    "window_b = mirror * 3"
   ],
   "metadata": {
    "collapsed": false,
    "pycharm": {
     "name": "#%%\n"
    }
   }
  },
  {
   "cell_type": "code",
   "execution_count": null,
   "outputs": [],
   "source": [
    "# plot the images\n",
    "from matplotlib import image\n",
    "\n",
    "fig = plt.figure(figsize=(16,16))\n",
    "columns = 4\n",
    "rows = 4\n",
    "cnt = 0\n"
   ],
   "metadata": {
    "collapsed": false,
    "pycharm": {
     "name": "#%%\n"
    }
   }
  },
  {
   "cell_type": "code",
   "execution_count": null,
   "outputs": [],
   "source": [
    "for i in range(0, columns * rows):\n",
    "    s = i + start\n",
    "    e = i + start + window\n",
    "    im_array, label = create_image(\n",
    "        [\n",
    "            price_df[s:e], \n",
    "            channel_df[s:e], \n",
    "            sar_df[s:e], \n",
    "            bar_df[s:e], \n",
    "            bbd_df[s:e], \n",
    "            gap_df[s:e],\n",
    "            adx_df[s:e], \n",
    "            atr_df[s:e], \n",
    "            lin_slope_df[s:e], \n",
    "            eom_df[s:e], \n",
    "            vol_df[s:e]\n",
    "        ], future_change[e], mirror)\n",
    "    fig.add_subplot(rows, columns, i+1, title=str(label))\n",
    "    plt.imshow(im_array)\n",
    "    # image.imsave(os.path.join(os.getcwd(), \"..\", \"data\", f\"{label}_{symbol}.png\"), im_array)\n",
    "plt.show()"
   ],
   "metadata": {
    "collapsed": false,
    "pycharm": {
     "name": "#%%\n"
    }
   }
  },
  {
   "cell_type": "code",
   "execution_count": null,
   "outputs": [],
   "source": [
    "for i in range(0, columns * rows):\n",
    "    s = i + start_b\n",
    "    e = i + start_b + window_b\n",
    "    im_array, label = create_image(\n",
    "        [\n",
    "            price_df_b[s:e], \n",
    "            channel_df_b[s:e], \n",
    "            sar_df[s:e], \n",
    "            bar_df[s:e], \n",
    "            gap_df[s:e],\n",
    "            adx_df[s:e], \n",
    "            atr_df[s:e], \n",
    "            eom_df[s:e], \n",
    "            vol_df[s:e]\n",
    "        ], future_change[e], mirror)\n",
    "    fig.add_subplot(rows, columns, i+1, title=str(label))\n",
    "    plt.imshow(im_array)\n",
    "    # image.imsave(os.path.join(os.getcwd(), \"..\", \"data\", f\"{label}_{symbol}.png\"), im_array)\n",
    "plt.show()"
   ],
   "metadata": {
    "collapsed": false,
    "pycharm": {
     "name": "#%%\n"
    }
   }
  },
  {
   "cell_type": "markdown",
   "source": [
    "### Create images for the entire dataset\n",
    "\n",
    "use multiprocessing to speed up the export"
   ],
   "metadata": {
    "collapsed": false
   }
  },
  {
   "cell_type": "code",
   "execution_count": null,
   "outputs": [],
   "source": [
    "from pathlib import Path\n",
    "from time import time\n",
    "from multiprocessing import Pool, Queue"
   ],
   "metadata": {
    "collapsed": false,
    "pycharm": {
     "name": "#%%\n"
    }
   }
  },
  {
   "cell_type": "code",
   "execution_count": null,
   "outputs": [],
   "source": [
    "def worker(queue: Queue):\n",
    "    print(f'{os.getpid()} worker started')\n",
    "    while True:\n",
    "        # get and block\n",
    "        item = queue.get(True)\n",
    "        if item == -1:\n",
    "            # stop the worker if we recieved None, signaling queue is empty\n",
    "            print(f'{os.getpid()} worker finished')\n",
    "            return\n",
    "        img, label = create_image(item[0], item[1], item[2])\n",
    "        fname = item[4] / f\"{item[1]}_{item[5]}_{item[3]}.png\"\n",
    "        image.imsave(fname, img)\n",
    "        print(f'saved {fname}')"
   ],
   "metadata": {
    "collapsed": false,
    "pycharm": {
     "name": "#%%\n"
    }
   }
  },
  {
   "cell_type": "code",
   "execution_count": null,
   "outputs": [],
   "source": [
    "workers = 8\n",
    "tasks = {}\n",
    "start = 100+192\n",
    "\n",
    "# set the data dir\n",
    "data_dir = Path(os.getcwd()) / '..' / 'data' / 'img'\n",
    "\n",
    "# create dir if note exists\n",
    "if not os.path.isdir(data_dir):\n",
    "    os.makedirs(data_dir)\n",
    "    print(f'created dir: {data_dir}')\n",
    "\n",
    "q = Queue(workers)\n",
    "\n",
    "# create worker pool\n",
    "p = Pool(workers, worker, (q,))\n",
    "\n",
    "for i in range(start, len(df)-window-4):\n",
    "    s = i\n",
    "    e = i + window\n",
    "    # put and block\n",
    "    q.put(([\n",
    "                price_df[s:e], \n",
    "                channel_df[s:e], \n",
    "                sar_df[s:e], \n",
    "                bar_df[s:e], \n",
    "                bbd_df[s:e], \n",
    "                gap_df[s:e],\n",
    "                adx_df[s:e], \n",
    "                atr_df[s:e], \n",
    "                lin_slope_df[s:e], \n",
    "                eom_df[s:e], \n",
    "                vol_df[s:e]\n",
    "            ], future_change[e], mirror, df['Date'].at[e].isoformat(), data_dir, symbol), True)\n",
    "\n",
    "for i in range(0, workers):\n",
    "    q.put(-1, True)\n",
    "\n",
    "print('Done')"
   ],
   "metadata": {
    "collapsed": false,
    "pycharm": {
     "name": "#%%\n"
    }
   }
  }
 ],
 "metadata": {
  "kernelspec": {
   "display_name": "Python 3",
   "language": "python",
   "name": "python3"
  },
  "language_info": {
   "codemirror_mode": {
    "name": "ipython",
    "version": 3
   },
   "file_extension": ".py",
   "mimetype": "text/x-python",
   "name": "python",
   "nbconvert_exporter": "python",
   "pygments_lexer": "ipython3",
   "version": "3.7.7-final"
  }
 },
 "nbformat": 4,
 "nbformat_minor": 1
}